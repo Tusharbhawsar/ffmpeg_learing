{
  "cells": [
    {
      "cell_type": "code",
      "execution_count": null,
      "metadata": {
        "colab": {
          "base_uri": "https://localhost:8080/"
        },
        "id": "pdFUJrI6LY0t",
        "outputId": "7a4f4814-70f3-44d5-c597-95082e8438cb"
      },
      "outputs": [
        {
          "output_type": "stream",
          "name": "stdout",
          "text": [
            "/content/drive/MyDrive/4_250-300/ 6c33a8f7-c0ef-4bfb-9cb1-5907549e6f4d\n",
            "ffmpeg -i ﻿https://d1lw40p9dgniy0.cloudfront.net/vendor/video_cut/dWdV0.-Qz/1641961901_7857985/1641961884_0227625.mp4 -vf fps=1 /content/drive/MyDrive/4_250-300/6c33a8f7-c0ef-4bfb-9cb1-5907549e6f4d_%d.jpg\n",
            "/content/drive/MyDrive/4_250-300/ cd291f60-c561-4d2a-bcbe-59dcdcd85bfb\n",
            "ffmpeg -i https://d1lw40p9dgniy0.cloudfront.net/vendor/video_cut/dWdV0.-Qz/1641961712_737899/1641961694_9330497.mp4 -vf fps=1 /content/drive/MyDrive/4_250-300/cd291f60-c561-4d2a-bcbe-59dcdcd85bfb_%d.jpg\n",
            "/content/drive/MyDrive/4_250-300/ 6e946d62-37b1-4b8f-9b6b-d8312c35e3a9\n",
            "ffmpeg -i https://d1lw40p9dgniy0.cloudfront.net/vendor/video_cut/dWdV0.-Qz/1641959467_9786284/1641959448_2718587.mp4 -vf fps=1 /content/drive/MyDrive/4_250-300/6e946d62-37b1-4b8f-9b6b-d8312c35e3a9_%d.jpg\n",
            "/content/drive/MyDrive/4_250-300/ bd6fb1b3-ff53-4e93-85ad-9759ce410e75\n",
            "ffmpeg -i https://d1lw40p9dgniy0.cloudfront.net/vendor/video_cut/-JHmLkXl9/1641930049_8931658/1641930036_7888374.mp4 -vf fps=1 /content/drive/MyDrive/4_250-300/bd6fb1b3-ff53-4e93-85ad-9759ce410e75_%d.jpg\n",
            "/content/drive/MyDrive/4_250-300/ 66f64951-add4-4afb-b189-1e5d842ae660\n",
            "ffmpeg -i https://d1lw40p9dgniy0.cloudfront.net/vendor/video_cut/-JHmLkXl9/1641928860_6740437/1641928849_347729.mp4 -vf fps=1 /content/drive/MyDrive/4_250-300/66f64951-add4-4afb-b189-1e5d842ae660_%d.jpg\n",
            "/content/drive/MyDrive/4_250-300/ 28413521-2d4e-4bd6-b61a-3c8754a3fd64\n",
            "ffmpeg -i https://d1lw40p9dgniy0.cloudfront.net/vendor/video_cut/-JHmLkXl9/1641928821_1548967/1641928809_5634317.mp4 -vf fps=1 /content/drive/MyDrive/4_250-300/28413521-2d4e-4bd6-b61a-3c8754a3fd64_%d.jpg\n",
            "/content/drive/MyDrive/4_250-300/ ee59c124-413f-496b-afd4-c7d710f13a9a\n",
            "ffmpeg -i https://d1lw40p9dgniy0.cloudfront.net/vendor/video_cut/-JHmLkXl9/1641928476_972352/1641928462_7096822.mp4 -vf fps=1 /content/drive/MyDrive/4_250-300/ee59c124-413f-496b-afd4-c7d710f13a9a_%d.jpg\n",
            "/content/drive/MyDrive/4_250-300/ 1fe5342c-ee28-4c84-8dfc-d3306155c530\n",
            "ffmpeg -i https://d1lw40p9dgniy0.cloudfront.net/vendor/video_cut/-JHmLkXl9/1641928433_8039367/1641928421_5058753.mp4 -vf fps=1 /content/drive/MyDrive/4_250-300/1fe5342c-ee28-4c84-8dfc-d3306155c530_%d.jpg\n",
            "/content/drive/MyDrive/4_250-300/ 32c8c73d-b4d2-446a-ad0a-22b46ce20518\n",
            "ffmpeg -i https://d1lw40p9dgniy0.cloudfront.net/vendor/video_cut/-JHmLkXl9/1641927439_7899795/1641927428_8966577.mp4 -vf fps=1 /content/drive/MyDrive/4_250-300/32c8c73d-b4d2-446a-ad0a-22b46ce20518_%d.jpg\n",
            "/content/drive/MyDrive/4_250-300/ 827233f1-64dc-40fa-a4d1-324b046e5df6\n",
            "ffmpeg -i https://d1lw40p9dgniy0.cloudfront.net/vendor/video_cut/-JHmLkXl9/1641927395_1675255/1641927383_291327.mp4 -vf fps=1 /content/drive/MyDrive/4_250-300/827233f1-64dc-40fa-a4d1-324b046e5df6_%d.jpg\n",
            "/content/drive/MyDrive/4_250-300/ 6e9f0f1c-f728-4eff-8be6-9d6931845936\n",
            "ffmpeg -i https://d1lw40p9dgniy0.cloudfront.net/vendor/video_cut/-JHmLkXl9/1641926985_5632865/1641926973_5406559.mp4 -vf fps=1 /content/drive/MyDrive/4_250-300/6e9f0f1c-f728-4eff-8be6-9d6931845936_%d.jpg\n",
            "/content/drive/MyDrive/4_250-300/ b6171695-d776-4859-926a-02c14a1a9b2d\n",
            "ffmpeg -i https://d1lw40p9dgniy0.cloudfront.net/vendor/video_cut/-JHmLkXl9/1641926678_1637805/1641926666_1128912.mp4 -vf fps=1 /content/drive/MyDrive/4_250-300/b6171695-d776-4859-926a-02c14a1a9b2d_%d.jpg\n",
            "/content/drive/MyDrive/4_250-300/ b803e48b-c785-41d8-a2fc-42c697d7c83b\n",
            "ffmpeg -i https://d1lw40p9dgniy0.cloudfront.net/vendor/-JHmLkXl9/1641916885.mp4 -vf fps=1 /content/drive/MyDrive/4_250-300/b803e48b-c785-41d8-a2fc-42c697d7c83b_%d.jpg\n",
            "/content/drive/MyDrive/4_250-300/ a99f6028-ae9e-4424-815d-12dca564491c\n",
            "ffmpeg -i https://d1lw40p9dgniy0.cloudfront.net/vendor/-JHmLkXl9/1641916866.mp4 -vf fps=1 /content/drive/MyDrive/4_250-300/a99f6028-ae9e-4424-815d-12dca564491c_%d.jpg\n",
            "/content/drive/MyDrive/4_250-300/ 0f909b76-da1d-43d7-872b-6dfe51c6c087\n",
            "ffmpeg -i https://d1lw40p9dgniy0.cloudfront.net/vendor/video_cut/-JHmLkXl9/1641925680_8051512/1641925669_8628874.mp4 -vf fps=1 /content/drive/MyDrive/4_250-300/0f909b76-da1d-43d7-872b-6dfe51c6c087_%d.jpg\n",
            "/content/drive/MyDrive/4_250-300/ 4798ffcb-c1d2-4459-8381-ee448af7af4b\n",
            "ffmpeg -i https://d1lw40p9dgniy0.cloudfront.net/vendor/video_cut/-JHmLkXl9/1641924614_4060314/1641924603_6884224.mp4 -vf fps=1 /content/drive/MyDrive/4_250-300/4798ffcb-c1d2-4459-8381-ee448af7af4b_%d.jpg\n",
            "/content/drive/MyDrive/4_250-300/ 18361896-7c8d-43f2-8e34-69f424c22d7f\n",
            "ffmpeg -i https://d1lw40p9dgniy0.cloudfront.net/vendor/video_cut/-JHmLkXl9/1641924280_5633893/1641924269_9342935.mp4 -vf fps=1 /content/drive/MyDrive/4_250-300/18361896-7c8d-43f2-8e34-69f424c22d7f_%d.jpg\n",
            "/content/drive/MyDrive/4_250-300/ e635bcd6-e4c8-43f5-b572-def3b9458eb9\n",
            "ffmpeg -i https://d1lw40p9dgniy0.cloudfront.net/vendor/video_cut/-JHmLkXl9/1641924247_4487605/1641924235_6687222.mp4 -vf fps=1 /content/drive/MyDrive/4_250-300/e635bcd6-e4c8-43f5-b572-def3b9458eb9_%d.jpg\n",
            "/content/drive/MyDrive/4_250-300/ 47fce125-fc6b-4c13-b896-e4ab42fbefe7\n",
            "ffmpeg -i https://d1lw40p9dgniy0.cloudfront.net/vendor/video_cut/-JHmLkXl9/1641923966_4688284/1641923952_5594711.mp4 -vf fps=1 /content/drive/MyDrive/4_250-300/47fce125-fc6b-4c13-b896-e4ab42fbefe7_%d.jpg\n",
            "/content/drive/MyDrive/4_250-300/ 5b1b78d9-07b1-4d7e-a09d-6c54f6a22cf7\n",
            "ffmpeg -i https://d1lw40p9dgniy0.cloudfront.net/vendor/video_cut/-JHmLkXl9/1641923960_376956/1641923949_8715577.mp4 -vf fps=1 /content/drive/MyDrive/4_250-300/5b1b78d9-07b1-4d7e-a09d-6c54f6a22cf7_%d.jpg\n",
            "/content/drive/MyDrive/4_250-300/ 13674897-c2b9-46c0-91d6-b0fef8fbdf21\n",
            "ffmpeg -i https://d1lw40p9dgniy0.cloudfront.net/vendor/-JHmLkXl9/1641916792.mp4 -vf fps=1 /content/drive/MyDrive/4_250-300/13674897-c2b9-46c0-91d6-b0fef8fbdf21_%d.jpg\n",
            "/content/drive/MyDrive/4_250-300/ f032d7f7-aec4-42c6-840d-b88f7d6c7685\n",
            "ffmpeg -i https://d1lw40p9dgniy0.cloudfront.net/vendor/video_cut/-JHmLkXl9/1641922631_7613761/1641922621_3369398.mp4 -vf fps=1 /content/drive/MyDrive/4_250-300/f032d7f7-aec4-42c6-840d-b88f7d6c7685_%d.jpg\n",
            "/content/drive/MyDrive/4_250-300/ d52805b4-8ba1-469b-a349-cb3077b03dca\n",
            "ffmpeg -i https://d1lw40p9dgniy0.cloudfront.net/vendor/-JHmLkXl9/1641916764.mp4 -vf fps=1 /content/drive/MyDrive/4_250-300/d52805b4-8ba1-469b-a349-cb3077b03dca_%d.jpg\n",
            "/content/drive/MyDrive/4_250-300/ 7ec7f482-f3b2-4554-bb98-5cd53ca93359\n",
            "ffmpeg -i https://d1lw40p9dgniy0.cloudfront.net/vendor/video_cut/-JHmLkXl9/1641921866_918241/1641921855_5185804.mp4 -vf fps=1 /content/drive/MyDrive/4_250-300/7ec7f482-f3b2-4554-bb98-5cd53ca93359_%d.jpg\n",
            "/content/drive/MyDrive/4_250-300/ 4d28385a-682b-42d6-bf07-e2ab4f528d19\n",
            "ffmpeg -i https://d1lw40p9dgniy0.cloudfront.net/vendor/video_cut/-JHmLkXl9/1641921521_8876448/1641921510_7249115.mp4 -vf fps=1 /content/drive/MyDrive/4_250-300/4d28385a-682b-42d6-bf07-e2ab4f528d19_%d.jpg\n",
            "/content/drive/MyDrive/4_250-300/ 9ef16cdc-872b-4472-bd9f-092c60ea82c2\n",
            "ffmpeg -i https://d1lw40p9dgniy0.cloudfront.net/vendor/video_cut/-JHmLkXl9/1641921079_7223666/1641921069_6345627.mp4 -vf fps=1 /content/drive/MyDrive/4_250-300/9ef16cdc-872b-4472-bd9f-092c60ea82c2_%d.jpg\n",
            "/content/drive/MyDrive/4_250-300/ 3b2ec800-d876-40e5-8d3e-e9ea8eca8e44\n",
            "ffmpeg -i https://d1lw40p9dgniy0.cloudfront.net/vendor/video_cut/-JHmLkXl9/1641920831_3908582/1641920820_998006.mp4 -vf fps=1 /content/drive/MyDrive/4_250-300/3b2ec800-d876-40e5-8d3e-e9ea8eca8e44_%d.jpg\n",
            "/content/drive/MyDrive/4_250-300/ b1ac987e-f374-4f43-a8dc-df8fc66ec85e\n",
            "ffmpeg -i https://d1lw40p9dgniy0.cloudfront.net/vendor/-JHmLkXl9/1641916682.mp4 -vf fps=1 /content/drive/MyDrive/4_250-300/b1ac987e-f374-4f43-a8dc-df8fc66ec85e_%d.jpg\n",
            "/content/drive/MyDrive/4_250-300/ cf648172-3cf2-43be-a05f-271bb7036c49\n",
            "ffmpeg -i https://d1lw40p9dgniy0.cloudfront.net/vendor/video_cut/-JHmLkXl9/1641919508_355929/1641919497_808828.mp4 -vf fps=1 /content/drive/MyDrive/4_250-300/cf648172-3cf2-43be-a05f-271bb7036c49_%d.jpg\n",
            "/content/drive/MyDrive/4_250-300/ fe2cadf8-6ff8-489b-988b-d1c376e4ebe9\n",
            "ffmpeg -i https://d1lw40p9dgniy0.cloudfront.net/vendor/video_cut/-JHmLkXl9/1641918865_1379313/1641918854_5813599.mp4 -vf fps=1 /content/drive/MyDrive/4_250-300/fe2cadf8-6ff8-489b-988b-d1c376e4ebe9_%d.jpg\n",
            "/content/drive/MyDrive/4_250-300/ 76f8abaa-1674-4056-bfcb-9e07e454f9a4\n",
            "ffmpeg -i https://d1lw40p9dgniy0.cloudfront.net/vendor/video_cut/-JHmLkXl9/1641918770_263888/1641918760_1061022.mp4 -vf fps=1 /content/drive/MyDrive/4_250-300/76f8abaa-1674-4056-bfcb-9e07e454f9a4_%d.jpg\n",
            "/content/drive/MyDrive/4_250-300/ 9af976a6-ef6d-4294-97d3-e9a5840ec097\n",
            "ffmpeg -i https://d1lw40p9dgniy0.cloudfront.net/vendor/video_cut/-JHmLkXl9/1641918729_6553955/1641918719_0566444.mp4 -vf fps=1 /content/drive/MyDrive/4_250-300/9af976a6-ef6d-4294-97d3-e9a5840ec097_%d.jpg\n",
            "/content/drive/MyDrive/4_250-300/ 90d358f7-648e-4ad3-bd78-8359997c6c57\n",
            "ffmpeg -i https://d1lw40p9dgniy0.cloudfront.net/vendor/video_cut/pM8OYeeFE/1641898445_020296/1641898431_1403403.mp4 -vf fps=1 /content/drive/MyDrive/4_250-300/90d358f7-648e-4ad3-bd78-8359997c6c57_%d.jpg\n",
            "/content/drive/MyDrive/4_250-300/ 0922af64-7554-49ff-a2e5-802e17cbdb7d\n",
            "ffmpeg -i https://d1lw40p9dgniy0.cloudfront.net/vendor/video_cut/pM8OYeeFE/1641897802_8796616/1641897786_8682866.mp4 -vf fps=1 /content/drive/MyDrive/4_250-300/0922af64-7554-49ff-a2e5-802e17cbdb7d_%d.jpg\n",
            "/content/drive/MyDrive/4_250-300/ 6fab2252-f96f-4bba-97e6-3acccd73e324\n",
            "ffmpeg -i https://d1lw40p9dgniy0.cloudfront.net/vendor/video_cut/pM8OYeeFE/1641897587_7391262/1641897575_5628076.mp4 -vf fps=1 /content/drive/MyDrive/4_250-300/6fab2252-f96f-4bba-97e6-3acccd73e324_%d.jpg\n",
            "/content/drive/MyDrive/4_250-300/ 2d37b432-acd5-4f49-9776-de115b8b5c22\n",
            "ffmpeg -i https://d1lw40p9dgniy0.cloudfront.net/vendor/video_cut/pM8OYeeFE/1641897556_4530761/1641897540_2512507.mp4 -vf fps=1 /content/drive/MyDrive/4_250-300/2d37b432-acd5-4f49-9776-de115b8b5c22_%d.jpg\n",
            "/content/drive/MyDrive/4_250-300/ f6cf13f7-3986-49a8-a12b-6f0381da5058\n",
            "ffmpeg -i https://d1lw40p9dgniy0.cloudfront.net/vendor/pM8OYeeFE/1641896834.mp4 -vf fps=1 /content/drive/MyDrive/4_250-300/f6cf13f7-3986-49a8-a12b-6f0381da5058_%d.jpg\n",
            "/content/drive/MyDrive/4_250-300/ 198a4284-0b2d-4b9a-ba3e-f7198c6e93dc\n",
            "ffmpeg -i https://d1lw40p9dgniy0.cloudfront.net/vendor/video_cut/pM8OYeeFE/1641897163_5711782/1641897150_2951872.mp4 -vf fps=1 /content/drive/MyDrive/4_250-300/198a4284-0b2d-4b9a-ba3e-f7198c6e93dc_%d.jpg\n",
            "/content/drive/MyDrive/4_250-300/ d467cf3f-568e-4219-b91b-8e0ac889c121\n",
            "ffmpeg -i https://d1lw40p9dgniy0.cloudfront.net/vendor/pM8OYeeFE/1641896121.mp4 -vf fps=1 /content/drive/MyDrive/4_250-300/d467cf3f-568e-4219-b91b-8e0ac889c121_%d.jpg\n",
            "/content/drive/MyDrive/4_250-300/ f40e7997-3360-4871-a158-42aea4106f94\n",
            "ffmpeg -i https://d1lw40p9dgniy0.cloudfront.net/vendor/video_cut/pM8OYeeFE/1641896189_4942887/1641896175_7402298.mp4 -vf fps=1 /content/drive/MyDrive/4_250-300/f40e7997-3360-4871-a158-42aea4106f94_%d.jpg\n",
            "/content/drive/MyDrive/4_250-300/ 2172d8bf-bd80-4048-9f0a-82b80a41ca95\n",
            "ffmpeg -i https://d1lw40p9dgniy0.cloudfront.net/vendor/video_cut/pM8OYeeFE/1641895843_8674178/1641895831_1245885.mp4 -vf fps=1 /content/drive/MyDrive/4_250-300/2172d8bf-bd80-4048-9f0a-82b80a41ca95_%d.jpg\n",
            "/content/drive/MyDrive/4_250-300/ 205a4d17-de53-412d-996e-a589d9c5df73\n",
            "ffmpeg -i https://d1lw40p9dgniy0.cloudfront.net/vendor/video_cut/pM8OYeeFE/1641895815_3727074/1641895799_7034338.mp4 -vf fps=1 /content/drive/MyDrive/4_250-300/205a4d17-de53-412d-996e-a589d9c5df73_%d.jpg\n",
            "/content/drive/MyDrive/4_250-300/ 06183881-5ade-4098-8a10-680b48dee0ad\n",
            "ffmpeg -i https://d1lw40p9dgniy0.cloudfront.net/vendor/video_cut/pM8OYeeFE/1641895633_37871/1641895620_1295369.mp4 -vf fps=1 /content/drive/MyDrive/4_250-300/06183881-5ade-4098-8a10-680b48dee0ad_%d.jpg\n",
            "/content/drive/MyDrive/4_250-300/ 71fe429b-9e5b-49aa-adb9-05ed0edccbcc\n",
            "ffmpeg -i https://d1lw40p9dgniy0.cloudfront.net/vendor/video_cut/pM8OYeeFE/1641895601_3687217/1641895586_9737182.mp4 -vf fps=1 /content/drive/MyDrive/4_250-300/71fe429b-9e5b-49aa-adb9-05ed0edccbcc_%d.jpg\n",
            "/content/drive/MyDrive/4_250-300/ ec70047f-6b5a-4a22-a3e2-fa5f8c804cf6\n",
            "ffmpeg -i https://d1lw40p9dgniy0.cloudfront.net/vendor/video_cut/pM8OYeeFE/1641895566_2018344/1641895552_4226797.mp4 -vf fps=1 /content/drive/MyDrive/4_250-300/ec70047f-6b5a-4a22-a3e2-fa5f8c804cf6_%d.jpg\n",
            "/content/drive/MyDrive/4_250-300/ f9aaffa4-7803-4225-86a4-e29f6764a3fc\n",
            "ffmpeg -i https://d1lw40p9dgniy0.cloudfront.net/vendor/video_cut/pM8OYeeFE/1641894246_151224/1641894234_4135096.mp4 -vf fps=1 /content/drive/MyDrive/4_250-300/f9aaffa4-7803-4225-86a4-e29f6764a3fc_%d.jpg\n",
            "/content/drive/MyDrive/4_250-300/ fb7901d7-5fd3-4804-923c-c7635858e86a\n",
            "ffmpeg -i https://d1lw40p9dgniy0.cloudfront.net/vendor/video_cut/pM8OYeeFE/1641894165_4396226/1641894149_6925893.mp4 -vf fps=1 /content/drive/MyDrive/4_250-300/fb7901d7-5fd3-4804-923c-c7635858e86a_%d.jpg\n",
            "/content/drive/MyDrive/4_250-300/ a03490bc-38d0-456f-b7ae-677f522bc618\n",
            "ffmpeg -i https://d1lw40p9dgniy0.cloudfront.net/vendor/video_cut/pM8OYeeFE/1641894060_528348/1641894048_2859006.mp4 -vf fps=1 /content/drive/MyDrive/4_250-300/a03490bc-38d0-456f-b7ae-677f522bc618_%d.jpg\n",
            "/content/drive/MyDrive/4_250-300/ 7e42e205-f259-4d79-9bd0-fb6c9f4689f3\n",
            "ffmpeg -i https://d1lw40p9dgniy0.cloudfront.net/vendor/video_cut/pM8OYeeFE/1641894037_6078408/1641894023_9506419.mp4 -vf fps=1 /content/drive/MyDrive/4_250-300/7e42e205-f259-4d79-9bd0-fb6c9f4689f3_%d.jpg\n",
            "/content/drive/MyDrive/4_250-300/ 552a5741-61e8-4af6-89a8-5ac8649efb78\n",
            "ffmpeg -i https://d1lw40p9dgniy0.cloudfront.net/vendor/video_cut/pM8OYeeFE/1641893569_349268/1641893555_934128.mp4 -vf fps=1 /content/drive/MyDrive/4_250-300/552a5741-61e8-4af6-89a8-5ac8649efb78_%d.jpg\n"
          ]
        }
      ],
      "source": [
        "import os\n",
        "import uuid\n",
        "\n",
        "file1 = open('/content/drive/MyDrive/image extraction/4_250-300.txt', 'r')\n",
        "count = 0\n",
        "\n",
        "path = \"/content/drive/MyDrive/4_250-300/\"\n",
        "\n",
        "\n",
        "\n",
        "while True:\n",
        "\n",
        "    count += 1\n",
        "\n",
        "    random = str(uuid.uuid4())\n",
        "\n",
        "    line = file1.readline()\n",
        "\n",
        "    if not line:\n",
        "        break\n",
        "\n",
        "    print(path, random)\n",
        "    os.mkdir(random)\n",
        "\n",
        "    cmd = \"ffmpeg -i {} -vf fps=1 /content/drive/MyDrive/4_250-300/{}_%d.jpg\".format(line.strip(),random,random)\n",
        "    print(cmd)\n",
        "    os.system(cmd)\n",
        " \n",
        "file1.close()"
      ]
    },
    {
      "cell_type": "code",
      "source": [
        "from google.colab import drive\n",
        "drive.mount('/content/drive')"
      ],
      "metadata": {
        "id": "x3-Yu3zYBWP7"
      },
      "execution_count": null,
      "outputs": []
    },
    {
      "cell_type": "code",
      "execution_count": null,
      "metadata": {
        "id": "aR-lxt33LY2m"
      },
      "outputs": [],
      "source": [
        ""
      ]
    },
    {
      "cell_type": "code",
      "execution_count": null,
      "metadata": {
        "id": "E77OVcksE9Sw"
      },
      "outputs": [],
      "source": [
        ""
      ]
    },
    {
      "cell_type": "code",
      "execution_count": null,
      "metadata": {
        "id": "aZ9pyvrYE9Ro"
      },
      "outputs": [],
      "source": [
        ""
      ]
    },
    {
      "cell_type": "code",
      "execution_count": null,
      "metadata": {
        "id": "vhHEyMpiE9QV"
      },
      "outputs": [],
      "source": [
        ""
      ]
    },
    {
      "cell_type": "code",
      "execution_count": null,
      "metadata": {
        "id": "PIfJb5q4CYCI"
      },
      "outputs": [],
      "source": [
        ""
      ]
    }
  ],
  "metadata": {
    "colab": {
      "collapsed_sections": [],
      "name": "frame_extraction.ipynb",
      "provenance": []
    },
    "kernelspec": {
      "display_name": "Python 3",
      "name": "python3"
    },
    "language_info": {
      "name": "python"
    }
  },
  "nbformat": 4,
  "nbformat_minor": 0
}